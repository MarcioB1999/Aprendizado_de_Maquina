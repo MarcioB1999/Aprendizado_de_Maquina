{
  "cells": [
    {
      "cell_type": "markdown",
      "metadata": {
        "id": "view-in-github",
        "colab_type": "text"
      },
      "source": [
        "<a href=\"https://colab.research.google.com/github/MarcioB1999/Modelo_Regress-o_Linear_/blob/main/ML_Analise.ipynb\" target=\"_parent\"><img src=\"https://colab.research.google.com/assets/colab-badge.svg\" alt=\"Open In Colab\"/></a>"
      ]
    },
    {
      "cell_type": "code",
      "execution_count": null,
      "id": "ad4395cc",
      "metadata": {
        "id": "ad4395cc",
        "colab": {
          "base_uri": "https://localhost:8080/"
        },
        "outputId": "47525a56-1fe6-405c-9c74-33991afbf55d"
      },
      "outputs": [
        {
          "output_type": "stream",
          "name": "stderr",
          "text": [
            "/usr/local/lib/python3.7/dist-packages/statsmodels/tools/_testing.py:19: FutureWarning: pandas.util.testing is deprecated. Use the functions in the public API at pandas.testing instead.\n",
            "  import pandas.util.testing as tm\n"
          ]
        }
      ],
      "source": [
        "import pandas as pd\n",
        "import seaborn as sns\n",
        "import numpy as np\n",
        "from matplotlib import pyplot as plt\n",
        "from collections import Counter as ct\n",
        "from sklearn import datasets, metrics, svm\n",
        "from sklearn.model_selection import train_test_split\n",
        "from sklearn.tree import DecisionTreeClassifier as dtc\n",
        "from sklearn.neural_network import MLPClassifier as rn\n",
        "from mlxtend.plotting import plot_decision_regions\n",
        "from sklearn.linear_model import LinearRegression\n",
        "import statsmodels.api as smi\n",
        "from scipy import stats\n",
        "import matplotlib.gridspec as gridspec\n",
        "from scipy.optimize import curve_fit\n",
        "from sklearn.decomposition import PCA\n",
        "from sklearn.preprocessing import StandardScaler\n",
        "from sklearn.impute import KNNImputer"
      ]
    },
    {
      "cell_type": "code",
      "source": [
        "from google.colab import drive\n",
        "drive.mount('/content/drive')"
      ],
      "metadata": {
        "colab": {
          "base_uri": "https://localhost:8080/"
        },
        "id": "xNUCxS6oyHTm",
        "outputId": "a4ecd580-ca70-403e-debd-0690b285aba6"
      },
      "id": "xNUCxS6oyHTm",
      "execution_count": null,
      "outputs": [
        {
          "output_type": "stream",
          "name": "stdout",
          "text": [
            "Mounted at /content/drive\n"
          ]
        }
      ]
    },
    {
      "cell_type": "markdown",
      "id": "00d864a3",
      "metadata": {
        "id": "00d864a3"
      },
      "source": [
        "# Primeiro objetivo é classificar dados por \"grade\""
      ]
    },
    {
      "cell_type": "markdown",
      "id": "91524777",
      "metadata": {
        "id": "91524777"
      },
      "source": [
        "# Regressão nos valores do preço"
      ]
    },
    {
      "cell_type": "code",
      "execution_count": null,
      "id": "9a0f6d05",
      "metadata": {
        "id": "9a0f6d05",
        "outputId": "88e4a671-b2cb-46e2-b111-d6fb902797ce",
        "colab": {
          "base_uri": "https://localhost:8080/",
          "height": 255
        }
      },
      "outputs": [
        {
          "output_type": "execute_result",
          "data": {
            "text/html": [
              "<div>\n",
              "<style scoped>\n",
              "    .dataframe tbody tr th:only-of-type {\n",
              "        vertical-align: middle;\n",
              "    }\n",
              "\n",
              "    .dataframe tbody tr th {\n",
              "        vertical-align: top;\n",
              "    }\n",
              "\n",
              "    .dataframe thead th {\n",
              "        text-align: right;\n",
              "    }\n",
              "</style>\n",
              "<table border=\"1\" class=\"dataframe\">\n",
              "  <thead>\n",
              "    <tr style=\"text-align: right;\">\n",
              "      <th></th>\n",
              "      <th>id</th>\n",
              "      <th>date</th>\n",
              "      <th>price</th>\n",
              "      <th>bedrooms</th>\n",
              "      <th>bathrooms</th>\n",
              "      <th>sqft_living</th>\n",
              "      <th>sqft_lot</th>\n",
              "      <th>floors</th>\n",
              "      <th>waterfront</th>\n",
              "      <th>view</th>\n",
              "      <th>...</th>\n",
              "      <th>grade</th>\n",
              "      <th>sqft_above</th>\n",
              "      <th>sqft_basement</th>\n",
              "      <th>yr_built</th>\n",
              "      <th>yr_renovated</th>\n",
              "      <th>zipcode</th>\n",
              "      <th>lat</th>\n",
              "      <th>long</th>\n",
              "      <th>sqft_living15</th>\n",
              "      <th>sqft_lot15</th>\n",
              "    </tr>\n",
              "  </thead>\n",
              "  <tbody>\n",
              "    <tr>\n",
              "      <th>0</th>\n",
              "      <td>7129300520</td>\n",
              "      <td>20141013T000000</td>\n",
              "      <td>221900.0</td>\n",
              "      <td>3.0</td>\n",
              "      <td>1.00</td>\n",
              "      <td>1180</td>\n",
              "      <td>5650</td>\n",
              "      <td>1.0</td>\n",
              "      <td>0</td>\n",
              "      <td>0</td>\n",
              "      <td>...</td>\n",
              "      <td>7</td>\n",
              "      <td>1180</td>\n",
              "      <td>0</td>\n",
              "      <td>1955</td>\n",
              "      <td>0</td>\n",
              "      <td>98178</td>\n",
              "      <td>47.5112</td>\n",
              "      <td>-122.257</td>\n",
              "      <td>1340</td>\n",
              "      <td>5650</td>\n",
              "    </tr>\n",
              "    <tr>\n",
              "      <th>1</th>\n",
              "      <td>6414100192</td>\n",
              "      <td>20141209T000000</td>\n",
              "      <td>538000.0</td>\n",
              "      <td>3.0</td>\n",
              "      <td>2.25</td>\n",
              "      <td>2570</td>\n",
              "      <td>7242</td>\n",
              "      <td>2.0</td>\n",
              "      <td>0</td>\n",
              "      <td>0</td>\n",
              "      <td>...</td>\n",
              "      <td>7</td>\n",
              "      <td>2170</td>\n",
              "      <td>400</td>\n",
              "      <td>1951</td>\n",
              "      <td>1991</td>\n",
              "      <td>98125</td>\n",
              "      <td>47.7210</td>\n",
              "      <td>-122.319</td>\n",
              "      <td>1690</td>\n",
              "      <td>7639</td>\n",
              "    </tr>\n",
              "    <tr>\n",
              "      <th>2</th>\n",
              "      <td>5631500400</td>\n",
              "      <td>20150225T000000</td>\n",
              "      <td>180000.0</td>\n",
              "      <td>2.0</td>\n",
              "      <td>1.00</td>\n",
              "      <td>770</td>\n",
              "      <td>10000</td>\n",
              "      <td>1.0</td>\n",
              "      <td>0</td>\n",
              "      <td>0</td>\n",
              "      <td>...</td>\n",
              "      <td>6</td>\n",
              "      <td>770</td>\n",
              "      <td>0</td>\n",
              "      <td>1933</td>\n",
              "      <td>0</td>\n",
              "      <td>98028</td>\n",
              "      <td>47.7379</td>\n",
              "      <td>-122.233</td>\n",
              "      <td>2720</td>\n",
              "      <td>8062</td>\n",
              "    </tr>\n",
              "    <tr>\n",
              "      <th>3</th>\n",
              "      <td>2487200875</td>\n",
              "      <td>20141209T000000</td>\n",
              "      <td>604000.0</td>\n",
              "      <td>4.0</td>\n",
              "      <td>3.00</td>\n",
              "      <td>1960</td>\n",
              "      <td>5000</td>\n",
              "      <td>1.0</td>\n",
              "      <td>0</td>\n",
              "      <td>0</td>\n",
              "      <td>...</td>\n",
              "      <td>7</td>\n",
              "      <td>1050</td>\n",
              "      <td>910</td>\n",
              "      <td>1965</td>\n",
              "      <td>0</td>\n",
              "      <td>98136</td>\n",
              "      <td>47.5208</td>\n",
              "      <td>-122.393</td>\n",
              "      <td>1360</td>\n",
              "      <td>5000</td>\n",
              "    </tr>\n",
              "    <tr>\n",
              "      <th>4</th>\n",
              "      <td>1954400510</td>\n",
              "      <td>20150218T000000</td>\n",
              "      <td>510000.0</td>\n",
              "      <td>3.0</td>\n",
              "      <td>2.00</td>\n",
              "      <td>1680</td>\n",
              "      <td>8080</td>\n",
              "      <td>1.0</td>\n",
              "      <td>0</td>\n",
              "      <td>0</td>\n",
              "      <td>...</td>\n",
              "      <td>8</td>\n",
              "      <td>1680</td>\n",
              "      <td>0</td>\n",
              "      <td>1987</td>\n",
              "      <td>0</td>\n",
              "      <td>98074</td>\n",
              "      <td>47.6168</td>\n",
              "      <td>-122.045</td>\n",
              "      <td>1800</td>\n",
              "      <td>7503</td>\n",
              "    </tr>\n",
              "  </tbody>\n",
              "</table>\n",
              "<p>5 rows × 21 columns</p>\n",
              "</div>"
            ],
            "text/plain": [
              "           id             date     price  bedrooms  bathrooms  sqft_living  \\\n",
              "0  7129300520  20141013T000000  221900.0       3.0       1.00         1180   \n",
              "1  6414100192  20141209T000000  538000.0       3.0       2.25         2570   \n",
              "2  5631500400  20150225T000000  180000.0       2.0       1.00          770   \n",
              "3  2487200875  20141209T000000  604000.0       4.0       3.00         1960   \n",
              "4  1954400510  20150218T000000  510000.0       3.0       2.00         1680   \n",
              "\n",
              "   sqft_lot  floors  waterfront  view  ...  grade  sqft_above  sqft_basement  \\\n",
              "0      5650     1.0           0     0  ...      7        1180              0   \n",
              "1      7242     2.0           0     0  ...      7        2170            400   \n",
              "2     10000     1.0           0     0  ...      6         770              0   \n",
              "3      5000     1.0           0     0  ...      7        1050            910   \n",
              "4      8080     1.0           0     0  ...      8        1680              0   \n",
              "\n",
              "   yr_built  yr_renovated  zipcode      lat     long  sqft_living15  \\\n",
              "0      1955             0    98178  47.5112 -122.257           1340   \n",
              "1      1951          1991    98125  47.7210 -122.319           1690   \n",
              "2      1933             0    98028  47.7379 -122.233           2720   \n",
              "3      1965             0    98136  47.5208 -122.393           1360   \n",
              "4      1987             0    98074  47.6168 -122.045           1800   \n",
              "\n",
              "   sqft_lot15  \n",
              "0        5650  \n",
              "1        7639  \n",
              "2        8062  \n",
              "3        5000  \n",
              "4        7503  \n",
              "\n",
              "[5 rows x 21 columns]"
            ]
          },
          "metadata": {},
          "execution_count": 3
        }
      ],
      "source": [
        "df=pd.read_csv('/content/drive/MyDrive/Colab Notebooks/arquivos/kc_house_data.csv')\n",
        "df.head()"
      ]
    },
    {
      "cell_type": "code",
      "execution_count": null,
      "id": "33b0b0d0",
      "metadata": {
        "scrolled": true,
        "id": "33b0b0d0",
        "outputId": "9fa6becf-5fc7-4720-d43d-b3203a3e6472",
        "colab": {
          "base_uri": "https://localhost:8080/"
        }
      },
      "outputs": [
        {
          "output_type": "stream",
          "name": "stdout",
          "text": [
            "price            0\n",
            "bedrooms         4\n",
            "bathrooms        0\n",
            "sqft_living      0\n",
            "sqft_lot         0\n",
            "floors           1\n",
            "waterfront       0\n",
            "view             0\n",
            "grade            0\n",
            "sqft_above       0\n",
            "sqft_basement    0\n",
            "sqft_living15    0\n",
            "sqft_lot15       0\n",
            "dtype: int64\n"
          ]
        }
      ],
      "source": [
        "#exluindo algumas colunas que não influenciam no valor\n",
        "#colunas excluidas manualmente é importante que tenham acompanhamento de um especialista no tema dos dados\n",
        "df.drop(columns=['id', 'date', 'yr_built', 'yr_renovated', 'zipcode', 'condition', 'lat', 'long'], inplace=True)\n",
        "print(df.isnull().sum())\n",
        "#como existe poucos valores faltantes, irei retira-los\n",
        "df.dropna(how='any', inplace=True)\n",
        "df.reset_index(drop=True, inplace=True)"
      ]
    },
    {
      "cell_type": "markdown",
      "id": "10eb9870",
      "metadata": {
        "id": "10eb9870"
      },
      "source": [
        "Para algumas colunas podemos usar o unique para visualizar se tem algum valor inconsistente, como por exemplo bathrooms=2.25\n",
        "oque não faz sentido, necessintando converter para inteiro\n"
      ]
    },
    {
      "cell_type": "code",
      "execution_count": null,
      "id": "08086690",
      "metadata": {
        "id": "08086690",
        "outputId": "830d741a-6803-476a-cab1-da7b63c5e77f",
        "colab": {
          "base_uri": "https://localhost:8080/"
        }
      },
      "outputs": [
        {
          "output_type": "stream",
          "name": "stdout",
          "text": [
            "bedrooms= [ 3.  2.  4.  5.  1.  6.  7.  0.  8.  9. 11. 10. 33.]\n",
            "bathrooms= [1.   2.25 3.   2.   4.5  1.5  2.5  1.75 2.75 3.25 4.   3.5  0.75 4.75\n",
            " 5.   4.25 3.75 0.   1.25 5.25 6.   0.5  5.5  6.75 5.75 8.   7.5  7.75\n",
            " 6.25 6.5 ]\n",
            "floors= [1.  2.  1.5 3.  2.5 3.5]\n",
            "waterfront= [0 1]\n",
            "view= [0 3 4 2 1]\n",
            "grade= [ 7  6  8 11  9  5 10 12  4  3 13  1]\n"
          ]
        }
      ],
      "source": [
        "colunas=['bedrooms', 'bathrooms', 'floors', 'waterfront', 'view', 'grade']\n",
        "for i in colunas:\n",
        "    print(f'{i}=',df[i].unique())"
      ]
    },
    {
      "cell_type": "code",
      "execution_count": null,
      "id": "1e1bbad0",
      "metadata": {
        "id": "1e1bbad0",
        "outputId": "e9b1954e-521b-476d-a5ea-1f2c7bbf0af8",
        "colab": {
          "base_uri": "https://localhost:8080/"
        }
      },
      "outputs": [
        {
          "output_type": "stream",
          "name": "stdout",
          "text": [
            "bathrooms= [1 2 3 4 0 5 6 8 7]\n",
            "floors= [1 2 3]\n"
          ]
        }
      ],
      "source": [
        "df['bathrooms']=df['bathrooms'].astype('int')\n",
        "df['floors']=df['floors'].astype('int')\n",
        "colunas=['bathrooms', 'floors']\n",
        "for i in colunas:\n",
        "    print(f'{i}=',df[i].unique())"
      ]
    },
    {
      "cell_type": "markdown",
      "id": "61272097",
      "metadata": {
        "id": "61272097"
      },
      "source": [
        "No aprendizado de máquina a principal função dos algoritmos é reconhecer padrões, e portanto, em certas ocasiões certos atributos, ou mesmo próprios dados em si, podem atrapalhar nessa na identificação desses padrões. Portanto se tem a importancia de se fazer um bom pré processamento deles. \n",
        "Será aplicado o PCA"
      ]
    },
    {
      "cell_type": "code",
      "execution_count": null,
      "id": "e17e098f",
      "metadata": {
        "id": "e17e098f",
        "outputId": "31037ce6-7836-478a-96cd-bcc1d4cc7eeb",
        "colab": {
          "base_uri": "https://localhost:8080/",
          "height": 206
        }
      },
      "outputs": [
        {
          "output_type": "execute_result",
          "data": {
            "text/html": [
              "<div>\n",
              "<style scoped>\n",
              "    .dataframe tbody tr th:only-of-type {\n",
              "        vertical-align: middle;\n",
              "    }\n",
              "\n",
              "    .dataframe tbody tr th {\n",
              "        vertical-align: top;\n",
              "    }\n",
              "\n",
              "    .dataframe thead th {\n",
              "        text-align: right;\n",
              "    }\n",
              "</style>\n",
              "<table border=\"1\" class=\"dataframe\">\n",
              "  <thead>\n",
              "    <tr style=\"text-align: right;\">\n",
              "      <th></th>\n",
              "      <th>price</th>\n",
              "      <th>bedrooms</th>\n",
              "      <th>bathrooms</th>\n",
              "      <th>sqft_living</th>\n",
              "      <th>sqft_lot</th>\n",
              "      <th>floors</th>\n",
              "      <th>waterfront</th>\n",
              "      <th>view</th>\n",
              "      <th>grade</th>\n",
              "      <th>sqft_above</th>\n",
              "      <th>sqft_basement</th>\n",
              "      <th>sqft_living15</th>\n",
              "      <th>sqft_lot15</th>\n",
              "    </tr>\n",
              "  </thead>\n",
              "  <tbody>\n",
              "    <tr>\n",
              "      <th>0</th>\n",
              "      <td>221900.0</td>\n",
              "      <td>3.0</td>\n",
              "      <td>1</td>\n",
              "      <td>1180</td>\n",
              "      <td>5650</td>\n",
              "      <td>1</td>\n",
              "      <td>0</td>\n",
              "      <td>0</td>\n",
              "      <td>7</td>\n",
              "      <td>1180</td>\n",
              "      <td>0</td>\n",
              "      <td>1340</td>\n",
              "      <td>5650</td>\n",
              "    </tr>\n",
              "    <tr>\n",
              "      <th>1</th>\n",
              "      <td>538000.0</td>\n",
              "      <td>3.0</td>\n",
              "      <td>2</td>\n",
              "      <td>2570</td>\n",
              "      <td>7242</td>\n",
              "      <td>2</td>\n",
              "      <td>0</td>\n",
              "      <td>0</td>\n",
              "      <td>7</td>\n",
              "      <td>2170</td>\n",
              "      <td>400</td>\n",
              "      <td>1690</td>\n",
              "      <td>7639</td>\n",
              "    </tr>\n",
              "    <tr>\n",
              "      <th>2</th>\n",
              "      <td>180000.0</td>\n",
              "      <td>2.0</td>\n",
              "      <td>1</td>\n",
              "      <td>770</td>\n",
              "      <td>10000</td>\n",
              "      <td>1</td>\n",
              "      <td>0</td>\n",
              "      <td>0</td>\n",
              "      <td>6</td>\n",
              "      <td>770</td>\n",
              "      <td>0</td>\n",
              "      <td>2720</td>\n",
              "      <td>8062</td>\n",
              "    </tr>\n",
              "    <tr>\n",
              "      <th>3</th>\n",
              "      <td>604000.0</td>\n",
              "      <td>4.0</td>\n",
              "      <td>3</td>\n",
              "      <td>1960</td>\n",
              "      <td>5000</td>\n",
              "      <td>1</td>\n",
              "      <td>0</td>\n",
              "      <td>0</td>\n",
              "      <td>7</td>\n",
              "      <td>1050</td>\n",
              "      <td>910</td>\n",
              "      <td>1360</td>\n",
              "      <td>5000</td>\n",
              "    </tr>\n",
              "    <tr>\n",
              "      <th>4</th>\n",
              "      <td>510000.0</td>\n",
              "      <td>3.0</td>\n",
              "      <td>2</td>\n",
              "      <td>1680</td>\n",
              "      <td>8080</td>\n",
              "      <td>1</td>\n",
              "      <td>0</td>\n",
              "      <td>0</td>\n",
              "      <td>8</td>\n",
              "      <td>1680</td>\n",
              "      <td>0</td>\n",
              "      <td>1800</td>\n",
              "      <td>7503</td>\n",
              "    </tr>\n",
              "  </tbody>\n",
              "</table>\n",
              "</div>"
            ],
            "text/plain": [
              "      price  bedrooms  bathrooms  sqft_living  sqft_lot  floors  waterfront  \\\n",
              "0  221900.0       3.0          1         1180      5650       1           0   \n",
              "1  538000.0       3.0          2         2570      7242       2           0   \n",
              "2  180000.0       2.0          1          770     10000       1           0   \n",
              "3  604000.0       4.0          3         1960      5000       1           0   \n",
              "4  510000.0       3.0          2         1680      8080       1           0   \n",
              "\n",
              "   view  grade  sqft_above  sqft_basement  sqft_living15  sqft_lot15  \n",
              "0     0      7        1180              0           1340        5650  \n",
              "1     0      7        2170            400           1690        7639  \n",
              "2     0      6         770              0           2720        8062  \n",
              "3     0      7        1050            910           1360        5000  \n",
              "4     0      8        1680              0           1800        7503  "
            ]
          },
          "metadata": {},
          "execution_count": 7
        }
      ],
      "source": [
        "df.head()"
      ]
    },
    {
      "cell_type": "markdown",
      "id": "3dd4b889",
      "metadata": {
        "id": "3dd4b889"
      },
      "source": [
        "# Funções auxiliares "
      ]
    },
    {
      "cell_type": "code",
      "execution_count": null,
      "id": "13f0cf6d",
      "metadata": {
        "id": "13f0cf6d"
      },
      "outputs": [],
      "source": [
        "def prob(data, acu):\n",
        "    aux=np.zeros(data.shape[0])\n",
        "    \n",
        "    #marcando no data frame valores que estao no vetor de acumulados\n",
        "    data_aux=data.isin({'price':acu})\n",
        "    \n",
        "    \n",
        "    #pegando os indices dos valores que estao no vetor acumulados\n",
        "    indices=data[data_aux.price].index\n",
        "\n",
        "    for i in indices:\n",
        "        aux[i]=1\n",
        "    return aux"
      ]
    },
    {
      "cell_type": "code",
      "execution_count": null,
      "id": "45e0050e",
      "metadata": {
        "id": "45e0050e"
      },
      "outputs": [],
      "source": [
        "def acumulativo(serie, porcentagem):\n",
        "    #essa função recebe uma serie e porcentagem, e retornará um vetor tal que a soma de suas\n",
        "    #frequencias sejam <=porcentagem, alem da soma das probabilidades desses valores e o maior a aparecer\n",
        "    #obs: valores em vec não se repetem\n",
        "    vec=[]\n",
        "    cont=serie.value_counts(normalize=True)\n",
        "    values=pd.DataFrame(cont.index)\n",
        "    #ordenando os valores, pois se nao pegar na ordem de menor para maior valor de price, acabará pulando valores\n",
        "    #na contagem do acumulado\n",
        "    order=pd.DataFrame(values.sort_values(by=0, ascending=True).reset_index(drop=True))\n",
        "    acu=0\n",
        "    for i in order.values:\n",
        "        value=i[0]\n",
        "        acu+=cont.loc[value]\n",
        "        if(acu>porcentagem):\n",
        "            break\n",
        "        else:\n",
        "            vec.append(value)\n",
        "    return np.resize(vec,(serie.shape[0])), acu, max(vec)[0]\n",
        "            \n",
        "          "
      ]
    },
    {
      "cell_type": "markdown",
      "id": "7be5b320",
      "metadata": {
        "id": "7be5b320"
      },
      "source": [
        "Vamos verificar a distribuição do preço, não apenas para a regressão, mas tambem para os tratamentos dos seu valores como outliers"
      ]
    },
    {
      "cell_type": "code",
      "execution_count": null,
      "id": "adcea865",
      "metadata": {
        "id": "adcea865",
        "outputId": "5640bdac-1a20-4e9b-8534-6047a97bcf1b",
        "colab": {
          "base_uri": "https://localhost:8080/",
          "height": 603
        }
      },
      "outputs": [
        {
          "output_type": "display_data",
          "data": {
            "image/png": "[encoded data removed]",
            "text/plain": [
              "<Figure size 720x720 with 3 Axes>"
            ]
          },
          "metadata": {
            "needs_background": "light"
          }
        }
      ],
      "source": [
        "#fazendo uma copia com apenas a coluna que interessa\n",
        "df_aux=df['price'].copy()\n",
        "df_aux=pd.DataFrame(df_aux)\n",
        "\n",
        "#fator de probabilidade\n",
        "probi=0.97\n",
        "\n",
        "#funções auxiliares\n",
        "aux, acu, maxi=acumulativo(df_aux, probi)\n",
        "df_aux.insert(1,'bool',prob(df_aux, aux))\n",
        "\n",
        "\n",
        "fig=plt.figure(figsize=(10,10))\n",
        "\n",
        "\n",
        "#histograma\n",
        "ax=fig.add_subplot(2,2,1)\n",
        "sns.histplot(data=df_aux[[\"price\",\"bool\"]],x=\"price\",hue=\"bool\",multiple=\"stack\", legend=False)\n",
        "sns.despine(bottom=True, left=True)\n",
        "plt.ylabel([], fontsize=0)\n",
        "plt.ylabel([], fontsize=0)\n",
        "plt.tick_params(axis='y', labelsize=0, length=0)\n",
        "plt.axvline(x=maxi, ymin=0, ymax=700, color='red')\n",
        "plt.text(maxi+100000, 700, f\"\"\"P(x<={maxi})={probi}\"\"\")\n",
        "\n",
        "\n",
        "#boxplot\n",
        "ax=fig.add_subplot(2,2,2)\n",
        "sns.boxplot(y=\"price\",data=df,color='blue')\n",
        "sns.despine(bottom=True, left=True)\n",
        "plt.xlabel([], fontsize=0)\n",
        "plt.tick_params(axis='x', labelsize=0, length=0)\n",
        "\n",
        "\n",
        "#dipersão\n",
        "ax=fig.add_subplot(2,1,2)\n",
        "sns.scatterplot(data=df_aux, x='price', y='price', hue='bool', legend=False)\n",
        "sns.despine(bottom=True, left=True)\n",
        "plt.ylabel('price')\n",
        "plt.tick_params(axis='x', labelsize=0, length=0)\n",
        "maximo=df['price'].max()\n",
        "plt.text(maximo+200000, maximo-200000, f\"Preço máximo={maximo}\", weight=\"bold\")\n",
        "plt.xlabel([], fontsize=0)\n",
        "plt.ylabel([], fontsize=0)\n",
        "plt.tick_params(axis='y', labelsize=0, length=0)\n",
        "\n",
        "plt.show()"
      ]
    },
    {
      "cell_type": "code",
      "execution_count": null,
      "id": "783a0c09",
      "metadata": {
        "id": "783a0c09",
        "outputId": "a5d54cfa-c4b0-4016-f430-be6003848b61",
        "colab": {
          "base_uri": "https://localhost:8080/",
          "height": 290
        }
      },
      "outputs": [
        {
          "output_type": "display_data",
          "data": {
            "image/png": "[encoded data removed]",
            "text/plain": [
              "<Figure size 432x288 with 1 Axes>"
            ]
          },
          "metadata": {
            "needs_background": "light"
          }
        }
      ],
      "source": [
        "smi.qqplot(df[\"price\"], line = \"r\")\n",
        "plt.show()"
      ]
    },
    {
      "cell_type": "code",
      "execution_count": null,
      "id": "3af09da3",
      "metadata": {
        "id": "3af09da3",
        "outputId": "c9f75635-28f6-4b56-f76e-89864c04601c",
        "colab": {
          "base_uri": "https://localhost:8080/"
        }
      },
      "outputs": [
        {
          "output_type": "stream",
          "name": "stdout",
          "text": [
            "A hipotese nula pode ser rejeitada\n"
          ]
        }
      ],
      "source": [
        "stat_test, p_valor =stats.normaltest(df[\"price\"])\n",
        "alpha=0.05\n",
        "if p_valor < alpha:  # hipotese nula: x vem de uma distribuição normal\n",
        "    print(\"A hipotese nula pode ser rejeitada\")\n",
        "else:\n",
        "    print(\"A hipotese nula não pode ser rejeitada\")"
      ]
    },
    {
      "cell_type": "markdown",
      "id": "0d0d393c",
      "metadata": {
        "id": "0d0d393c"
      },
      "source": [
        "Como visto pelos dois gráficos acima e pelo teste de hipotese, os dados de price não seguem uma distribuição normal. Portanto não pode aplicar certos métodos para tratamento de dados, e ja podemos concluir que não poderemos usar regressão linear."
      ]
    },
    {
      "cell_type": "code",
      "execution_count": null,
      "id": "185592fd",
      "metadata": {
        "id": "185592fd",
        "outputId": "2ed386b3-ba6d-489f-b916-a2a069d1ec77",
        "colab": {
          "base_uri": "https://localhost:8080/",
          "height": 320
        }
      },
      "outputs": [
        {
          "output_type": "display_data",
          "data": {
            "image/png": "[encoded data removed]",
            "text/plain": [
              "<Figure size 720x720 with 2 Axes>"
            ]
          },
          "metadata": {
            "needs_background": "light"
          }
        }
      ],
      "source": [
        "grop=df[['grade','price']].groupby('grade').mean()\n",
        "\n",
        "fig=plt.figure(figsize=(10,10))\n",
        "\n",
        "ax=fig.add_subplot(2,2,1)\n",
        "plt.scatter(df.grade,df.price)\n",
        "plt.ylabel('price')\n",
        "plt.xlabel('grade')\n",
        "\n",
        "#função exponencial\n",
        "exp=lambda x, p1, p2: p1*np.exp(p2*x)\n",
        "\n",
        "plt.plot(grop.index,grop.price, color='red')\n",
        "popt, pcov=curve_fit(exp, df.grade, df.price)\n",
        "order=np.array(pd.DataFrame(df['grade'].unique()).sort_values(by=0, ascending=True)).reshape(-1)\n",
        "y_fitted=exp(order, *popt)\n",
        "#plt.plot(order,y_fitted, color='orange')\n",
        "\n",
        "\n",
        "ax=fig.add_subplot(2,2,2)\n",
        "sns.boxplot(x=\"grade\",y=\"price\",data=df,color='blue')\n",
        "\n",
        "\n",
        "\n",
        "sns.despine(bottom=True, left=True)\n"
      ]
    },
    {
      "cell_type": "markdown",
      "id": "389d6a63",
      "metadata": {
        "id": "389d6a63"
      },
      "source": [
        "uma regressão exponencial seria um modelo que se aplicaria melhor aos dados"
      ]
    },
    {
      "cell_type": "code",
      "execution_count": null,
      "id": "01fc8462",
      "metadata": {
        "id": "01fc8462",
        "outputId": "a644cabf-24ea-4e9e-a436-da352d8434a0",
        "colab": {
          "base_uri": "https://localhost:8080/",
          "height": 801
        }
      },
      "outputs": [
        {
          "output_type": "display_data",
          "data": {
            "image/png": "[encoded data removed]",
            "text/plain": [
              "<Figure size 864x864 with 12 Axes>"
            ]
          },
          "metadata": {
            "needs_background": "light"
          }
        }
      ],
      "source": [
        "fig=plt.figure(figsize=(12,12))\n",
        "\n",
        "plt.subplots_adjust(wspace=0.3, hspace=1.3)\n",
        "\n",
        "#pega a frequencia\n",
        "cont=df['grade'].value_counts(normalize=True)\n",
        "\n",
        "\n",
        "#pegar o preço mais alto de cada grade\n",
        "grop=df[['grade','price']].groupby('grade').max()\n",
        "\n",
        "#pegar a frequencia de cada preço por grade\n",
        "grop2=df[['grade','price']].groupby(['grade', 'price']).size()\n",
        "\n",
        "#colocando em ordem o vetor de valores unicos de grade\n",
        "value=pd.DataFrame(df['grade'].unique()).sort_values(by=0, ascending=True).values\n",
        "value=np.array(value).reshape(-1)\n",
        "\n",
        "j=0\n",
        "for i in value:\n",
        "    j += 1\n",
        "    ax = fig.add_subplot(6,2,j)\n",
        "    sns.histplot(df[df.grade==i].price, kde=True, element='step')\n",
        "    sns.despine(bottom=True, left=True)\n",
        "    ax.set_title(f\"Categoria {i}\")\n",
        "\n",
        "    for tick in ax.get_xticklabels():\n",
        "            tick.set_rotation(55)\n",
        "            \n",
        "    plt.tick_params(axis='y', labelsize=0, length=0)\n",
        "    plt.ylabel([], fontsize=0)\n",
        "    plt.xlabel([], fontsize=0)\n",
        "    probabi = cont[i]\n",
        "    plt.text(grop.loc[i], (grop2.loc[i].sum())/25, f\"\"\"{round(probabi, 3)}\"\"\")\n",
        "    fig.suptitle('Distribuição de Preços por Categoria')\n",
        "\n",
        "    \n",
        "plt.show()\n",
        "\n",
        "#teste\n",
        "#x=df[['grade','price']].groupby(['grade', 'price']).size()\n",
        "#filtro=df.isin({'price':[250000], 'grade':[7]})\n",
        "#print(df[(filtro.price) & (filtro.grade)].shape)\n",
        "    "
      ]
    },
    {
      "cell_type": "markdown",
      "id": "1d8485b6",
      "metadata": {
        "id": "1d8485b6"
      },
      "source": [
        "Conseguimos perceber melhor que os dados vem de distribuições diferentes dependendo da categoria, porem da mesma classe de distribuição com parametros diferentes"
      ]
    },
    {
      "cell_type": "markdown",
      "id": "ab138e25",
      "metadata": {
        "id": "ab138e25"
      },
      "source": [
        "# Tratamento dos outliers"
      ]
    },
    {
      "cell_type": "markdown",
      "id": "b3d7da13",
      "metadata": {
        "id": "b3d7da13"
      },
      "source": [
        "O método para identificar os outliers foi o do boxplot, pois não depende da distribuição da variavel. e os outliers estão sendo tratados por categoria"
      ]
    },
    {
      "cell_type": "code",
      "execution_count": null,
      "id": "fe45aca6",
      "metadata": {
        "id": "fe45aca6",
        "outputId": "378abe53-0c68-4c4e-ea67-28af9019416b",
        "colab": {
          "base_uri": "https://localhost:8080/"
        }
      },
      "outputs": [
        {
          "output_type": "stream",
          "name": "stdout",
          "text": [
            "Quantidade de outliers antes e depois\n",
            "categoria 1 => 0 | 0\n",
            "categoria 3 => 0 | 0\n",
            "categoria 4 => 0 | 0\n",
            "categoria 5 => 0 | 2\n",
            "categoria 6 => 1 | 18\n",
            "categoria 7 => 12 | 53\n",
            "categoria 8 => 120 | 55\n",
            "categoria 9 => 289 | 69\n",
            "categoria 10 => 366 | 40\n",
            "categoria 11 => 260 | 18\n",
            "categoria 12 => 85 | 5\n",
            "categoria 13 => 13 | 1\n",
            "Total =======> 1146 | 261 \n"
          ]
        }
      ],
      "source": [
        "order = np.array(pd.DataFrame(df['grade'].unique()).sort_values(by=0, ascending=True)).reshape(-1)\n",
        "\n",
        "auxiliar = df.copy()\n",
        "\n",
        "\n",
        "\n",
        "for gd in order:\n",
        "    \n",
        "    ax = df.loc[df['grade']==gd].copy()\n",
        "    \n",
        "    \n",
        "    q3 = ax['price'].quantile(0.75)\n",
        "    q1 = ax['price'].quantile(0.25)\n",
        "    \n",
        "    iqr = q3-q1\n",
        "    lif = q1-(iqr*1.5)\n",
        "    lsp = q3+(iqr*1.5)\n",
        "    \n",
        "    ax.loc[(ax['price']<lif) | (ax['price']>lsp)]=np.nan\n",
        "    \n",
        "    \n",
        "    imputer = KNNImputer(n_neighbors=15, weights='uniform', metric='nan_euclidean')\n",
        "    imputer.fit(ax)\n",
        "\n",
        "    #print(f'grade{gd} = {imputer.transform(ax)[:,0]}')\n",
        "\n",
        "\n",
        "    auxiliar.loc[df['grade']==gd] = imputer.transform(ax)\n",
        "    \n",
        "\n",
        "ax2 = df.copy()\n",
        "ax2['price'] = auxiliar['price']\n",
        "\n",
        "print('Quantidade de outliers antes e depois')\n",
        "    \n",
        "total1=0\n",
        "total2=0\n",
        "for gd in order:\n",
        "    ax0=df.loc[df['grade']==gd].copy()\n",
        "    ax=ax2.loc[ax2['grade']==gd].copy()\n",
        "    \n",
        "    \n",
        "    q33 = df['price'].quantile(0.75)\n",
        "    q11 = df['price'].quantile(0.25)\n",
        "    \n",
        "    iqr1 = q33-q11\n",
        "    lif1 = q11-(iqr1*1.5)\n",
        "    lsp1 = q33+(iqr1*1.5)\n",
        "    \n",
        "    q3 = ax['price'].quantile(0.75)\n",
        "    q1 = ax['price'].quantile(0.25)\n",
        "    \n",
        "    iqr = q3-q1\n",
        "    lif = q1-(iqr*1.5)\n",
        "    lsp = q3+(iqr*1.5)\n",
        "    \n",
        "    ax.loc[(ax['price']<lif) | (ax['price']>lsp)]=np.nan\n",
        "    val1=ax['price'].isnull().sum()\n",
        "    \n",
        "    ax0.loc[(df['price']<lif1) | (df['price']>lsp1)]=np.nan\n",
        "    val0=ax0['price'].isnull().sum()\n",
        "    \n",
        "    total1+=val0\n",
        "    total2+=val1\n",
        "    \n",
        "    \n",
        "    print(f\"categoria {int(gd)} => {val0} | {val1}\")\n",
        "    \n",
        "    \n",
        "print(f'Total =======> {total1} | {total2} ')\n",
        "    \n",
        "    "
      ]
    },
    {
      "cell_type": "markdown",
      "id": "6e3fe2bc",
      "metadata": {
        "id": "6e3fe2bc"
      },
      "source": [
        " Conseguimos tratar aproximadamente 77% dos outliers, de modo que não são mais outliers no novo conjunto de dados"
      ]
    },
    {
      "cell_type": "code",
      "execution_count": null,
      "id": "550c605f",
      "metadata": {
        "id": "550c605f",
        "outputId": "950dcde7-b90b-48ab-a5d2-48796aa984c1",
        "colab": {
          "base_uri": "https://localhost:8080/",
          "height": 320
        }
      },
      "outputs": [
        {
          "output_type": "display_data",
          "data": {
            "image/png": "[encoded data removed]",
            "text/plain": [
              "<Figure size 720x720 with 2 Axes>"
            ]
          },
          "metadata": {
            "needs_background": "light"
          }
        }
      ],
      "source": [
        "grop=ax2[['grade','price']].groupby('grade').mean()\n",
        "\n",
        "fig=plt.figure(figsize=(10,10))\n",
        "\n",
        "ax=fig.add_subplot(2,2,1)\n",
        "plt.scatter(ax2.grade,ax2.price)\n",
        "plt.ylabel('price')\n",
        "plt.xlabel('grade')\n",
        "\n",
        "#função exponencial\n",
        "exp=lambda x, p1, p2: p1*np.exp(p2*x)\n",
        "\n",
        "plt.plot(grop.index,grop.price, color='red')\n",
        "popt, pcov=curve_fit(exp, ax2.grade, ax2.price)\n",
        "order=np.array(pd.DataFrame(ax2['grade'].unique()).sort_values(by=0, ascending=True)).reshape(-1)\n",
        "y_fitted=exp(order, *popt)\n",
        "plt.plot(order,y_fitted, color='orange')\n",
        "\n",
        "\n",
        "ax=fig.add_subplot(2,2,2)\n",
        "sns.boxplot(x=\"grade\",y=\"price\",data=ax2,color='blue')\n",
        "\n",
        "\n",
        "\n",
        "sns.despine(bottom=True, left=True)"
      ]
    },
    {
      "cell_type": "code",
      "execution_count": null,
      "id": "bd304109",
      "metadata": {
        "id": "bd304109",
        "outputId": "9aa0a7b3-c03c-4305-e5ef-2563243e3770",
        "colab": {
          "base_uri": "https://localhost:8080/",
          "height": 387
        }
      },
      "outputs": [
        {
          "output_type": "stream",
          "name": "stdout",
          "text": [
            "<bound method GLMResults.summary of <statsmodels.genmod.generalized_linear_model.GLMResults object at 0x7f57d281d990>>\n"
          ]
        },
        {
          "output_type": "stream",
          "name": "stderr",
          "text": [
            "/usr/local/lib/python3.7/dist-packages/ipykernel_launcher.py:1: DeprecationWarning: Calling Family(..) with a link class as argument is deprecated.\n",
            "Use an instance of a link class instead.\n",
            "  \"\"\"Entry point for launching an IPython kernel.\n"
          ]
        },
        {
          "output_type": "execute_result",
          "data": {
            "text/plain": [
              "[<matplotlib.lines.Line2D at 0x7f57d283fb90>]"
            ]
          },
          "metadata": {},
          "execution_count": 26
        },
        {
          "output_type": "display_data",
          "data": {
            "image/png": "[encoded data removed]",
            "text/plain": [
              "<Figure size 432x288 with 1 Axes>"
            ]
          },
          "metadata": {
            "needs_background": "light"
          }
        }
      ],
      "source": [
        "gamma_model = smi.GLM(ax2['price'], ax2['grade'], family=smi.families.Gamma(link=smi.families.links.log))\n",
        "\n",
        "gamma_results = gamma_model.fit()\n",
        "\n",
        "print(gamma_results.summary)\n",
        "\n",
        "order=pd.DataFrame(ax2['grade'].unique()).sort_values(by=0, ascending=True)\n",
        "pred=gamma_results.predict(exog=order)\n",
        "\n",
        "plt.scatter(ax2.grade,ax2.price)\n",
        "plt.plot(np.array(order),pred, color='orange')"
      ]
    },
    {
      "cell_type": "markdown",
      "source": [
        "#Redução da Dimensão dos Dados\\ PCA"
      ],
      "metadata": {
        "id": "RyHsYrhPCfd3"
      },
      "id": "RyHsYrhPCfd3"
    },
    {
      "cell_type": "code",
      "execution_count": null,
      "id": "9931db14",
      "metadata": {
        "id": "9931db14",
        "outputId": "041947d9-2efc-4bfa-9165-ea24a6c1a6ae",
        "colab": {
          "base_uri": "https://localhost:8080/",
          "height": 206
        }
      },
      "outputs": [
        {
          "output_type": "execute_result",
          "data": {
            "text/html": [
              "\n",
              "  <div id=\"df-793bb34f-3ad9-4202-966f-2359eb54ddc9\">\n",
              "    <div class=\"colab-df-container\">\n",
              "      <div>\n",
              "<style scoped>\n",
              "    .dataframe tbody tr th:only-of-type {\n",
              "        vertical-align: middle;\n",
              "    }\n",
              "\n",
              "    .dataframe tbody tr th {\n",
              "        vertical-align: top;\n",
              "    }\n",
              "\n",
              "    .dataframe thead th {\n",
              "        text-align: right;\n",
              "    }\n",
              "</style>\n",
              "<table border=\"1\" class=\"dataframe\">\n",
              "  <thead>\n",
              "    <tr style=\"text-align: right;\">\n",
              "      <th></th>\n",
              "      <th>0</th>\n",
              "      <th>1</th>\n",
              "      <th>2</th>\n",
              "      <th>3</th>\n",
              "      <th>4</th>\n",
              "      <th>5</th>\n",
              "      <th>6</th>\n",
              "      <th>7</th>\n",
              "      <th>8</th>\n",
              "      <th>9</th>\n",
              "      <th>10</th>\n",
              "      <th>11</th>\n",
              "    </tr>\n",
              "  </thead>\n",
              "  <tbody>\n",
              "    <tr>\n",
              "      <th>0</th>\n",
              "      <td>-0.976272</td>\n",
              "      <td>-0.398880</td>\n",
              "      <td>-1.020232</td>\n",
              "      <td>-0.979886</td>\n",
              "      <td>-0.228352</td>\n",
              "      <td>-0.808454</td>\n",
              "      <td>-0.087183</td>\n",
              "      <td>-0.305798</td>\n",
              "      <td>-0.734721</td>\n",
              "      <td>-0.658752</td>\n",
              "      <td>-0.943353</td>\n",
              "      <td>-0.260752</td>\n",
              "    </tr>\n",
              "    <tr>\n",
              "      <th>1</th>\n",
              "      <td>0.083008</td>\n",
              "      <td>-0.398880</td>\n",
              "      <td>0.340497</td>\n",
              "      <td>0.533508</td>\n",
              "      <td>-0.189920</td>\n",
              "      <td>1.003503</td>\n",
              "      <td>-0.087183</td>\n",
              "      <td>-0.305798</td>\n",
              "      <td>0.460775</td>\n",
              "      <td>0.245002</td>\n",
              "      <td>-0.432704</td>\n",
              "      <td>-0.187912</td>\n",
              "    </tr>\n",
              "    <tr>\n",
              "      <th>2</th>\n",
              "      <td>-1.116682</td>\n",
              "      <td>-1.474106</td>\n",
              "      <td>-1.020232</td>\n",
              "      <td>-1.426283</td>\n",
              "      <td>-0.123340</td>\n",
              "      <td>-0.808454</td>\n",
              "      <td>-0.087183</td>\n",
              "      <td>-0.305798</td>\n",
              "      <td>-1.229826</td>\n",
              "      <td>-0.658752</td>\n",
              "      <td>1.070063</td>\n",
              "      <td>-0.172421</td>\n",
              "    </tr>\n",
              "    <tr>\n",
              "      <th>3</th>\n",
              "      <td>0.304180</td>\n",
              "      <td>0.676345</td>\n",
              "      <td>1.701227</td>\n",
              "      <td>-0.130643</td>\n",
              "      <td>-0.244043</td>\n",
              "      <td>-0.808454</td>\n",
              "      <td>-0.087183</td>\n",
              "      <td>-0.305798</td>\n",
              "      <td>-0.891706</td>\n",
              "      <td>1.397288</td>\n",
              "      <td>-0.914173</td>\n",
              "      <td>-0.284555</td>\n",
              "    </tr>\n",
              "    <tr>\n",
              "      <th>4</th>\n",
              "      <td>-0.010822</td>\n",
              "      <td>-0.398880</td>\n",
              "      <td>0.340497</td>\n",
              "      <td>-0.435500</td>\n",
              "      <td>-0.169690</td>\n",
              "      <td>-0.808454</td>\n",
              "      <td>-0.087183</td>\n",
              "      <td>-0.305798</td>\n",
              "      <td>-0.130935</td>\n",
              "      <td>-0.658752</td>\n",
              "      <td>-0.272214</td>\n",
              "      <td>-0.192892</td>\n",
              "    </tr>\n",
              "  </tbody>\n",
              "</table>\n",
              "</div>\n",
              "      <button class=\"colab-df-convert\" onclick=\"convertToInteractive('df-793bb34f-3ad9-4202-966f-2359eb54ddc9')\"\n",
              "              title=\"Convert this dataframe to an interactive table.\"\n",
              "              style=\"display:none;\">\n",
              "        \n",
              "  <svg xmlns=\"http://www.w3.org/2000/svg\" height=\"24px\"viewBox=\"0 0 24 24\"\n",
              "       width=\"24px\">\n",
              "    <path d=\"M0 0h24v24H0V0z\" fill=\"none\"/>\n",
              "    <path d=\"M18.56 5.44l.94 2.06.94-2.06 2.06-.94-2.06-.94-.94-2.06-.94 2.06-2.06.94zm-11 1L8.5 8.5l.94-2.06 2.06-.94-2.06-.94L8.5 2.5l-.94 2.06-2.06.94zm10 10l.94 2.06.94-2.06 2.06-.94-2.06-.94-.94-2.06-.94 2.06-2.06.94z\"/><path d=\"M17.41 7.96l-1.37-1.37c-.4-.4-.92-.59-1.43-.59-.52 0-1.04.2-1.43.59L10.3 9.45l-7.72 7.72c-.78.78-.78 2.05 0 2.83L4 21.41c.39.39.9.59 1.41.59.51 0 1.02-.2 1.41-.59l7.78-7.78 2.81-2.81c.8-.78.8-2.07 0-2.86zM5.41 20L4 18.59l7.72-7.72 1.47 1.35L5.41 20z\"/>\n",
              "  </svg>\n",
              "      </button>\n",
              "      \n",
              "  <style>\n",
              "    .colab-df-container {\n",
              "      display:flex;\n",
              "      flex-wrap:wrap;\n",
              "      gap: 12px;\n",
              "    }\n",
              "\n",
              "    .colab-df-convert {\n",
              "      background-color: #E8F0FE;\n",
              "      border: none;\n",
              "      border-radius: 50%;\n",
              "      cursor: pointer;\n",
              "      display: none;\n",
              "      fill: #1967D2;\n",
              "      height: 32px;\n",
              "      padding: 0 0 0 0;\n",
              "      width: 32px;\n",
              "    }\n",
              "\n",
              "    .colab-df-convert:hover {\n",
              "      background-color: #E2EBFA;\n",
              "      box-shadow: 0px 1px 2px rgba(60, 64, 67, 0.3), 0px 1px 3px 1px rgba(60, 64, 67, 0.15);\n",
              "      fill: #174EA6;\n",
              "    }\n",
              "\n",
              "    [theme=dark] .colab-df-convert {\n",
              "      background-color: #3B4455;\n",
              "      fill: #D2E3FC;\n",
              "    }\n",
              "\n",
              "    [theme=dark] .colab-df-convert:hover {\n",
              "      background-color: #434B5C;\n",
              "      box-shadow: 0px 1px 3px 1px rgba(0, 0, 0, 0.15);\n",
              "      filter: drop-shadow(0px 1px 2px rgba(0, 0, 0, 0.3));\n",
              "      fill: #FFFFFF;\n",
              "    }\n",
              "  </style>\n",
              "\n",
              "      <script>\n",
              "        const buttonEl =\n",
              "          document.querySelector('#df-793bb34f-3ad9-4202-966f-2359eb54ddc9 button.colab-df-convert');\n",
              "        buttonEl.style.display =\n",
              "          google.colab.kernel.accessAllowed ? 'block' : 'none';\n",
              "\n",
              "        async function convertToInteractive(key) {\n",
              "          const element = document.querySelector('#df-793bb34f-3ad9-4202-966f-2359eb54ddc9');\n",
              "          const dataTable =\n",
              "            await google.colab.kernel.invokeFunction('convertToInteractive',\n",
              "                                                     [key], {});\n",
              "          if (!dataTable) return;\n",
              "\n",
              "          const docLinkHtml = 'Like what you see? Visit the ' +\n",
              "            '<a target=\"_blank\" href=https://colab.research.google.com/notebooks/data_table.ipynb>data table notebook</a>'\n",
              "            + ' to learn more about interactive tables.';\n",
              "          element.innerHTML = '';\n",
              "          dataTable['output_type'] = 'display_data';\n",
              "          await google.colab.output.renderOutput(dataTable, element);\n",
              "          const docLink = document.createElement('div');\n",
              "          docLink.innerHTML = docLinkHtml;\n",
              "          element.appendChild(docLink);\n",
              "        }\n",
              "      </script>\n",
              "    </div>\n",
              "  </div>\n",
              "  "
            ],
            "text/plain": [
              "         0         1         2         3         4         5         6   \\\n",
              "0 -0.976272 -0.398880 -1.020232 -0.979886 -0.228352 -0.808454 -0.087183   \n",
              "1  0.083008 -0.398880  0.340497  0.533508 -0.189920  1.003503 -0.087183   \n",
              "2 -1.116682 -1.474106 -1.020232 -1.426283 -0.123340 -0.808454 -0.087183   \n",
              "3  0.304180  0.676345  1.701227 -0.130643 -0.244043 -0.808454 -0.087183   \n",
              "4 -0.010822 -0.398880  0.340497 -0.435500 -0.169690 -0.808454 -0.087183   \n",
              "\n",
              "         7         8         9         10        11  \n",
              "0 -0.305798 -0.734721 -0.658752 -0.943353 -0.260752  \n",
              "1 -0.305798  0.460775  0.245002 -0.432704 -0.187912  \n",
              "2 -0.305798 -1.229826 -0.658752  1.070063 -0.172421  \n",
              "3 -0.305798 -0.891706  1.397288 -0.914173 -0.284555  \n",
              "4 -0.305798 -0.130935 -0.658752 -0.272214 -0.192892  "
            ]
          },
          "metadata": {},
          "execution_count": 28
        }
      ],
      "source": [
        "x=ax2.drop(columns=['grade']).values\n",
        "y=ax2.grade.values\n",
        "#normalizando os dados\n",
        "x = pd.DataFrame(StandardScaler().fit_transform(x))\n",
        "x.head()"
      ]
    },
    {
      "cell_type": "code",
      "execution_count": null,
      "id": "403901fd",
      "metadata": {
        "id": "403901fd",
        "outputId": "6f5bd46c-5328-4029-9771-5856edd6b80d",
        "colab": {
          "base_uri": "https://localhost:8080/",
          "height": 206
        }
      },
      "outputs": [
        {
          "output_type": "execute_result",
          "data": {
            "text/html": [
              "\n",
              "  <div id=\"df-f4e1c01c-6db5-48af-8dff-f5ed8a5ef3eb\">\n",
              "    <div class=\"colab-df-container\">\n",
              "      <div>\n",
              "<style scoped>\n",
              "    .dataframe tbody tr th:only-of-type {\n",
              "        vertical-align: middle;\n",
              "    }\n",
              "\n",
              "    .dataframe tbody tr th {\n",
              "        vertical-align: top;\n",
              "    }\n",
              "\n",
              "    .dataframe thead th {\n",
              "        text-align: right;\n",
              "    }\n",
              "</style>\n",
              "<table border=\"1\" class=\"dataframe\">\n",
              "  <thead>\n",
              "    <tr style=\"text-align: right;\">\n",
              "      <th></th>\n",
              "      <th>0</th>\n",
              "      <th>1</th>\n",
              "      <th>2</th>\n",
              "      <th>3</th>\n",
              "      <th>4</th>\n",
              "      <th>5</th>\n",
              "      <th>6</th>\n",
              "      <th>7</th>\n",
              "      <th>8</th>\n",
              "      <th>grade</th>\n",
              "    </tr>\n",
              "  </thead>\n",
              "  <tbody>\n",
              "    <tr>\n",
              "      <th>0</th>\n",
              "      <td>-2.342673</td>\n",
              "      <td>0.074590</td>\n",
              "      <td>-0.006231</td>\n",
              "      <td>-0.041654</td>\n",
              "      <td>0.166962</td>\n",
              "      <td>0.463666</td>\n",
              "      <td>0.223804</td>\n",
              "      <td>0.112167</td>\n",
              "      <td>-0.134662</td>\n",
              "      <td>7</td>\n",
              "    </tr>\n",
              "    <tr>\n",
              "      <th>1</th>\n",
              "      <td>0.464042</td>\n",
              "      <td>-0.521004</td>\n",
              "      <td>-0.546185</td>\n",
              "      <td>-0.202057</td>\n",
              "      <td>0.009625</td>\n",
              "      <td>-0.806712</td>\n",
              "      <td>-0.433097</td>\n",
              "      <td>-0.032923</td>\n",
              "      <td>0.277646</td>\n",
              "      <td>7</td>\n",
              "    </tr>\n",
              "    <tr>\n",
              "      <th>2</th>\n",
              "      <td>-2.310482</td>\n",
              "      <td>0.388876</td>\n",
              "      <td>-0.012636</td>\n",
              "      <td>-0.455719</td>\n",
              "      <td>-0.992750</td>\n",
              "      <td>0.708853</td>\n",
              "      <td>-0.110838</td>\n",
              "      <td>-1.352668</td>\n",
              "      <td>-0.163014</td>\n",
              "      <td>6</td>\n",
              "    </tr>\n",
              "    <tr>\n",
              "      <th>3</th>\n",
              "      <td>0.068856</td>\n",
              "      <td>-0.502792</td>\n",
              "      <td>1.150415</td>\n",
              "      <td>1.449858</td>\n",
              "      <td>0.840794</td>\n",
              "      <td>-1.234182</td>\n",
              "      <td>-0.536068</td>\n",
              "      <td>0.571162</td>\n",
              "      <td>-1.076250</td>\n",
              "      <td>7</td>\n",
              "    </tr>\n",
              "    <tr>\n",
              "      <th>4</th>\n",
              "      <td>-0.724462</td>\n",
              "      <td>-0.096441</td>\n",
              "      <td>-0.182213</td>\n",
              "      <td>-0.025444</td>\n",
              "      <td>-0.189874</td>\n",
              "      <td>0.290981</td>\n",
              "      <td>-0.229724</td>\n",
              "      <td>0.285515</td>\n",
              "      <td>-0.979168</td>\n",
              "      <td>8</td>\n",
              "    </tr>\n",
              "  </tbody>\n",
              "</table>\n",
              "</div>\n",
              "      <button class=\"colab-df-convert\" onclick=\"convertToInteractive('df-f4e1c01c-6db5-48af-8dff-f5ed8a5ef3eb')\"\n",
              "              title=\"Convert this dataframe to an interactive table.\"\n",
              "              style=\"display:none;\">\n",
              "        \n",
              "  <svg xmlns=\"http://www.w3.org/2000/svg\" height=\"24px\"viewBox=\"0 0 24 24\"\n",
              "       width=\"24px\">\n",
              "    <path d=\"M0 0h24v24H0V0z\" fill=\"none\"/>\n",
              "    <path d=\"M18.56 5.44l.94 2.06.94-2.06 2.06-.94-2.06-.94-.94-2.06-.94 2.06-2.06.94zm-11 1L8.5 8.5l.94-2.06 2.06-.94-2.06-.94L8.5 2.5l-.94 2.06-2.06.94zm10 10l.94 2.06.94-2.06 2.06-.94-2.06-.94-.94-2.06-.94 2.06-2.06.94z\"/><path d=\"M17.41 7.96l-1.37-1.37c-.4-.4-.92-.59-1.43-.59-.52 0-1.04.2-1.43.59L10.3 9.45l-7.72 7.72c-.78.78-.78 2.05 0 2.83L4 21.41c.39.39.9.59 1.41.59.51 0 1.02-.2 1.41-.59l7.78-7.78 2.81-2.81c.8-.78.8-2.07 0-2.86zM5.41 20L4 18.59l7.72-7.72 1.47 1.35L5.41 20z\"/>\n",
              "  </svg>\n",
              "      </button>\n",
              "      \n",
              "  <style>\n",
              "    .colab-df-container {\n",
              "      display:flex;\n",
              "      flex-wrap:wrap;\n",
              "      gap: 12px;\n",
              "    }\n",
              "\n",
              "    .colab-df-convert {\n",
              "      background-color: #E8F0FE;\n",
              "      border: none;\n",
              "      border-radius: 50%;\n",
              "      cursor: pointer;\n",
              "      display: none;\n",
              "      fill: #1967D2;\n",
              "      height: 32px;\n",
              "      padding: 0 0 0 0;\n",
              "      width: 32px;\n",
              "    }\n",
              "\n",
              "    .colab-df-convert:hover {\n",
              "      background-color: #E2EBFA;\n",
              "      box-shadow: 0px 1px 2px rgba(60, 64, 67, 0.3), 0px 1px 3px 1px rgba(60, 64, 67, 0.15);\n",
              "      fill: #174EA6;\n",
              "    }\n",
              "\n",
              "    [theme=dark] .colab-df-convert {\n",
              "      background-color: #3B4455;\n",
              "      fill: #D2E3FC;\n",
              "    }\n",
              "\n",
              "    [theme=dark] .colab-df-convert:hover {\n",
              "      background-color: #434B5C;\n",
              "      box-shadow: 0px 1px 3px 1px rgba(0, 0, 0, 0.15);\n",
              "      filter: drop-shadow(0px 1px 2px rgba(0, 0, 0, 0.3));\n",
              "      fill: #FFFFFF;\n",
              "    }\n",
              "  </style>\n",
              "\n",
              "      <script>\n",
              "        const buttonEl =\n",
              "          document.querySelector('#df-f4e1c01c-6db5-48af-8dff-f5ed8a5ef3eb button.colab-df-convert');\n",
              "        buttonEl.style.display =\n",
              "          google.colab.kernel.accessAllowed ? 'block' : 'none';\n",
              "\n",
              "        async function convertToInteractive(key) {\n",
              "          const element = document.querySelector('#df-f4e1c01c-6db5-48af-8dff-f5ed8a5ef3eb');\n",
              "          const dataTable =\n",
              "            await google.colab.kernel.invokeFunction('convertToInteractive',\n",
              "                                                     [key], {});\n",
              "          if (!dataTable) return;\n",
              "\n",
              "          const docLinkHtml = 'Like what you see? Visit the ' +\n",
              "            '<a target=\"_blank\" href=https://colab.research.google.com/notebooks/data_table.ipynb>data table notebook</a>'\n",
              "            + ' to learn more about interactive tables.';\n",
              "          element.innerHTML = '';\n",
              "          dataTable['output_type'] = 'display_data';\n",
              "          await google.colab.output.renderOutput(dataTable, element);\n",
              "          const docLink = document.createElement('div');\n",
              "          docLink.innerHTML = docLinkHtml;\n",
              "          element.appendChild(docLink);\n",
              "        }\n",
              "      </script>\n",
              "    </div>\n",
              "  </div>\n",
              "  "
            ],
            "text/plain": [
              "          0         1         2         3         4         5         6  \\\n",
              "0 -2.342673  0.074590 -0.006231 -0.041654  0.166962  0.463666  0.223804   \n",
              "1  0.464042 -0.521004 -0.546185 -0.202057  0.009625 -0.806712 -0.433097   \n",
              "2 -2.310482  0.388876 -0.012636 -0.455719 -0.992750  0.708853 -0.110838   \n",
              "3  0.068856 -0.502792  1.150415  1.449858  0.840794 -1.234182 -0.536068   \n",
              "4 -0.724462 -0.096441 -0.182213 -0.025444 -0.189874  0.290981 -0.229724   \n",
              "\n",
              "          7         8  grade  \n",
              "0  0.112167 -0.134662      7  \n",
              "1 -0.032923  0.277646      7  \n",
              "2 -1.352668 -0.163014      6  \n",
              "3  0.571162 -1.076250      7  \n",
              "4  0.285515 -0.979168      8  "
            ]
          },
          "metadata": {},
          "execution_count": 29
        }
      ],
      "source": [
        "#pca = PCA(n_components=2)\n",
        "pca = PCA(0.95)\n",
        "x_pca = pca.fit_transform(x)\n",
        "x_pca = pd.DataFrame(x_pca)\n",
        "x_pca['grade']=df.grade\n",
        "x_pca.head()"
      ]
    },
    {
      "cell_type": "markdown",
      "id": "54e92a7a",
      "metadata": {
        "id": "54e92a7a"
      },
      "source": [
        "Aplicando pca de modo que consiga explicar 95% da variação obtivemos uma matriz menor com 9 atributos, ou seja, 3 colunas foram excluidas"
      ]
    },
    {
      "cell_type": "markdown",
      "id": "0cb5b8c3",
      "metadata": {
        "id": "0cb5b8c3"
      },
      "source": [
        "# SVM"
      ]
    },
    {
      "cell_type": "markdown",
      "id": "33b38423",
      "metadata": {
        "id": "33b38423"
      },
      "source": [
        "Conjunto sem aplicar PCA"
      ]
    },
    {
      "cell_type": "code",
      "execution_count": null,
      "id": "1756946a",
      "metadata": {
        "id": "1756946a",
        "outputId": "939efdee-e90f-4e97-eea5-26b1a56cd3e8",
        "colab": {
          "base_uri": "https://localhost:8080/"
        }
      },
      "outputs": [
        {
          "output_type": "stream",
          "name": "stdout",
          "text": [
            "accuracy= 0.4951411383618695\n"
          ]
        }
      ],
      "source": [
        "#definindo conjunto de treinamento\n",
        "x=ax2.loc[:, 'price':'sqft_lot15'].drop(columns=['grade'])\n",
        "y=ax2['grade']\n",
        "x_train, x_test, y_train, y_test=train_test_split(x, y, test_size=0.3, random_state=13)\n",
        "#classificador\n",
        "clasf=svm.SVC(kernel='rbf')\n",
        "clasf.fit(x_train, y_train)\n",
        "print(\"accuracy=\", metrics.accuracy_score(y_test, clasf.predict(x_test)))"
      ]
    },
    {
      "cell_type": "markdown",
      "id": "3648121d",
      "metadata": {
        "id": "3648121d"
      },
      "source": [
        "Conjunto aplicado PCA"
      ]
    },
    {
      "cell_type": "code",
      "execution_count": null,
      "id": "464fdc6c",
      "metadata": {
        "id": "464fdc6c",
        "outputId": "06633460-3775-4e99-cc89-ab00b99db958",
        "colab": {
          "base_uri": "https://localhost:8080/"
        }
      },
      "outputs": [
        {
          "output_type": "stream",
          "name": "stdout",
          "text": [
            "accuracy= 0.647539719265772\n"
          ]
        }
      ],
      "source": [
        "#definindo conjunto de treinamento\n",
        "x=x_pca.loc[:, 0:8]\n",
        "y=x_pca['grade']\n",
        "x_train, x_test, y_train, y_test=train_test_split(x, y, test_size=0.3, random_state=13)\n",
        "#classificador\n",
        "clasf=svm.SVC(kernel='rbf')\n",
        "clasf.fit(x_train, y_train)\n",
        "print(\"accuracy=\", metrics.accuracy_score(y_test, clasf.predict(x_test)))\n",
        "#print(metrics.classification_report(y_test, clasf.predict(x_test)))"
      ]
    }
  ],
  "metadata": {
    "kernelspec": {
      "display_name": "Python 3 (ipykernel)",
      "language": "python",
      "name": "python3"
    },
    "language_info": {
      "codemirror_mode": {
        "name": "ipython",
        "version": 3
      },
      "file_extension": ".py",
      "mimetype": "text/x-python",
      "name": "python",
      "nbconvert_exporter": "python",
      "pygments_lexer": "ipython3",
      "version": "3.9.7"
    },
    "colab": {
      "name": "ML_Analise.ipynb",
      "provenance": [],
      "collapsed_sections": [],
      "include_colab_link": true
    }
  },
  "nbformat": 4,
  "nbformat_minor": 5
}